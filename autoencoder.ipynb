{
  "nbformat": 4,
  "nbformat_minor": 0,
  "metadata": {
    "colab": {
      "name": "autoencoder.ipynb",
      "provenance": [],
      "collapsed_sections": []
    },
    "kernelspec": {
      "name": "python3",
      "display_name": "Python 3"
    },
    "accelerator": "GPU"
  },
  "cells": [
    {
      "cell_type": "markdown",
      "metadata": {
        "id": "gVfY6N8TQ9y-",
        "colab_type": "text"
      },
      "source": [
        "# Autoencoder"
      ]
    },
    {
      "cell_type": "markdown",
      "metadata": {
        "id": "FgF-tnZ8Rxge",
        "colab_type": "text"
      },
      "source": [
        "An autoencoder is a neural network that learns to copy its input to its output"
      ]
    },
    {
      "cell_type": "markdown",
      "metadata": {
        "id": "OI1ngLKpQ68G",
        "colab_type": "text"
      },
      "source": [
        "## Necessary Imports"
      ]
    },
    {
      "cell_type": "code",
      "metadata": {
        "id": "_yPa32bAzLsG",
        "colab_type": "code",
        "colab": {}
      },
      "source": [
        "import numpy as np\n",
        "import tensorflow as tf\n",
        "import pandas as pd\n",
        "from sklearn.utils import shuffle\n",
        "import matplotlib.pyplot as plt\n",
        "%matplotlib inline "
      ],
      "execution_count": 0,
      "outputs": []
    },
    {
      "cell_type": "code",
      "metadata": {
        "id": "Jl8b1Q-yCU_s",
        "colab_type": "code",
        "colab": {
          "base_uri": "https://localhost:8080/",
          "height": 35
        },
        "outputId": "7875f6ba-75bc-4dc5-8d1d-d6b0cb55d32d"
      },
      "source": [
        "from google.colab import drive\n",
        "drive.mount('/content/drive')"
      ],
      "execution_count": 2,
      "outputs": [
        {
          "output_type": "stream",
          "text": [
            "Drive already mounted at /content/drive; to attempt to forcibly remount, call drive.mount(\"/content/drive\", force_remount=True).\n"
          ],
          "name": "stdout"
        }
      ]
    },
    {
      "cell_type": "markdown",
      "metadata": {
        "id": "hw9y4D98QUQk",
        "colab_type": "text"
      },
      "source": [
        "## Load the Dataset"
      ]
    },
    {
      "cell_type": "code",
      "metadata": {
        "id": "oWYm3Hb_QPjw",
        "colab_type": "code",
        "colab": {}
      },
      "source": [
        "df = pd.read_csv('/content/drive/My Drive/Colab Notebooks/train.csv')"
      ],
      "execution_count": 0,
      "outputs": []
    },
    {
      "cell_type": "code",
      "metadata": {
        "id": "z-972CdqQQLt",
        "colab_type": "code",
        "colab": {}
      },
      "source": [
        "data = df.values"
      ],
      "execution_count": 0,
      "outputs": []
    },
    {
      "cell_type": "markdown",
      "metadata": {
        "id": "issXuyqmQXW-",
        "colab_type": "text"
      },
      "source": [
        "## Pre-processing"
      ]
    },
    {
      "cell_type": "markdown",
      "metadata": {
        "id": "ina2GQD4RFj6",
        "colab_type": "text"
      },
      "source": [
        "Standardize"
      ]
    },
    {
      "cell_type": "code",
      "metadata": {
        "id": "mi6v8944QKlH",
        "colab_type": "code",
        "colab": {}
      },
      "source": [
        "X = data[:, 1:] / 255.0\n",
        "y = data[:, 0]"
      ],
      "execution_count": 0,
      "outputs": []
    },
    {
      "cell_type": "markdown",
      "metadata": {
        "id": "yu6qPB8fRKcO",
        "colab_type": "text"
      },
      "source": [
        "Shuffle"
      ]
    },
    {
      "cell_type": "code",
      "metadata": {
        "id": "MB38iaG5CaeG",
        "colab_type": "code",
        "colab": {}
      },
      "source": [
        "X_train, y_train = shuffle(X, y)"
      ],
      "execution_count": 0,
      "outputs": []
    },
    {
      "cell_type": "markdown",
      "metadata": {
        "id": "JhHnlZlaRMOb",
        "colab_type": "text"
      },
      "source": [
        "Required Dimensions"
      ]
    },
    {
      "cell_type": "code",
      "metadata": {
        "id": "W_1RtATKGx8L",
        "colab_type": "code",
        "colab": {}
      },
      "source": [
        "D = X_train.shape[1]\n",
        "M = 300"
      ],
      "execution_count": 0,
      "outputs": []
    },
    {
      "cell_type": "markdown",
      "metadata": {
        "id": "Asgtmm6OQdw-",
        "colab_type": "text"
      },
      "source": [
        "## Building the Autoencoder"
      ]
    },
    {
      "cell_type": "code",
      "metadata": {
        "id": "2c6MmxIlzrYn",
        "colab_type": "code",
        "colab": {}
      },
      "source": [
        "class autoencoder:\n",
        "  def __init__(self, D, M):\n",
        "    # list to store training loss at each step\n",
        "    self.losses = []\n",
        "\n",
        "    # batch of training data\n",
        "    self.X = tf.placeholder(tf.float32, shape=(None, D))\n",
        "\n",
        "    # first layer\n",
        "    # input => hidden\n",
        "    self.W = tf.Variable(tf.random_normal(shape=(D, M)) * tf.sqrt(2.0 / M))\n",
        "    self.b = tf.Variable(tf.zeros(M))\n",
        "\n",
        "    # second layer\n",
        "    # hidden => output\n",
        "    self.V = tf.Variable(tf.random_normal(shape=(M, D)) * tf.sqrt(2.0 / D))\n",
        "    self.c = tf.Variable(tf.zeros(D))\n",
        "\n",
        "    # generate by reconstruction\n",
        "    self.Z = tf.nn.relu(tf.matmul(self.X, self.W) + self.b)\n",
        "    self.logits = tf.matmul(self.Z, self.V) + self.c\n",
        "    self.prediction = tf.nn.sigmoid(self.logits)\n",
        "\n",
        "    # calculate the loss\n",
        "    self.loss_operation = tf.reduce_sum(tf.nn.sigmoid_cross_entropy_with_logits(labels=self.X, logits=self.logits))\n",
        "\n",
        "    # train the autoencoder by reducing the calculated loss\n",
        "    self.train_operation = tf.train.RMSPropOptimizer(learning_rate=0.001).minimize(self.loss_operation)\n",
        "\n",
        "    # session and variables initialization\n",
        "    self.init_operation = tf.global_variables_initializer()\n",
        "    self.sess = tf.InteractiveSession()\n",
        "    self.sess.run(self.init_operation)\n",
        "\n",
        "    # model saver object\n",
        "    self.saver = tf.train.Saver()\n",
        "\n",
        "  def fit(self, X, epochs=30, batch_size=64):\n",
        "    # number of batches (or) step size\n",
        "    num_batches = len(X) // batch_size\n",
        "    print('Training...')\n",
        "\n",
        "    for e in range(epochs):\n",
        "      print(\"Epoch {}\".format(e+1))\n",
        "      # shuffle training data at each epoch\n",
        "      np.random.shuffle(X)\n",
        "\n",
        "      # create new batch at each step and train \n",
        "      for offset in range(num_batches):\n",
        "        new_batch = X[offset*batch_size:(offset+1)*batch_size]\n",
        "        a, l = self.sess.run((self.train_operation, self.loss_operation), feed_dict={self.X: new_batch})\n",
        "        l /= batch_size\n",
        "        self.losses.append(l)\n",
        "      print(\"Loss: %.2f\" % self.losses[e])\n",
        "\n",
        "  def predict(self, X):\n",
        "    # return predicted/generated image\n",
        "    return self.sess.run(self.prediction, feed_dict={self.X: X})\n",
        "\n",
        "  def save_weights(self, path):\n",
        "    # save the model's parameters/weights\n",
        "    self.saver.save(self.sess, path)\n",
        "    print(\"Saved successfully\")"
      ],
      "execution_count": 0,
      "outputs": []
    },
    {
      "cell_type": "markdown",
      "metadata": {
        "id": "Vz2PaLy0RTEH",
        "colab_type": "text"
      },
      "source": [
        "## Train the Autoencoder"
      ]
    },
    {
      "cell_type": "markdown",
      "metadata": {
        "id": "1tjfgsEiQh9b",
        "colab_type": "text"
      },
      "source": [
        "Instantiate the Autoencoder model"
      ]
    },
    {
      "cell_type": "code",
      "metadata": {
        "id": "BU7k5Avw3jN1",
        "colab_type": "code",
        "colab": {}
      },
      "source": [
        "model = autoencoder(D, M)"
      ],
      "execution_count": 0,
      "outputs": []
    },
    {
      "cell_type": "markdown",
      "metadata": {
        "id": "ErUv9umWQmBK",
        "colab_type": "text"
      },
      "source": [
        "Train the model"
      ]
    },
    {
      "cell_type": "code",
      "metadata": {
        "id": "JIm3vgS54QvF",
        "colab_type": "code",
        "outputId": "5d1b4285-d47c-4463-ae83-0496c1ce2430",
        "colab": {
          "base_uri": "https://localhost:8080/",
          "height": 1000
        }
      },
      "source": [
        "model.fit(X_train)"
      ],
      "execution_count": 10,
      "outputs": [
        {
          "output_type": "stream",
          "text": [
            "Training...\n",
            "Epoch 1\n",
            "Loss: 572.22\n",
            "Epoch 2\n",
            "Loss: 497.25\n",
            "Epoch 3\n",
            "Loss: 438.92\n",
            "Epoch 4\n",
            "Loss: 379.52\n",
            "Epoch 5\n",
            "Loss: 325.45\n",
            "Epoch 6\n",
            "Loss: 283.22\n",
            "Epoch 7\n",
            "Loss: 258.85\n",
            "Epoch 8\n",
            "Loss: 251.90\n",
            "Epoch 9\n",
            "Loss: 236.15\n",
            "Epoch 10\n",
            "Loss: 218.12\n",
            "Epoch 11\n",
            "Loss: 212.74\n",
            "Epoch 12\n",
            "Loss: 219.32\n",
            "Epoch 13\n",
            "Loss: 218.26\n",
            "Epoch 14\n",
            "Loss: 207.97\n",
            "Epoch 15\n",
            "Loss: 194.59\n",
            "Epoch 16\n",
            "Loss: 205.42\n",
            "Epoch 17\n",
            "Loss: 201.06\n",
            "Epoch 18\n",
            "Loss: 183.35\n",
            "Epoch 19\n",
            "Loss: 187.90\n",
            "Epoch 20\n",
            "Loss: 194.89\n",
            "Epoch 21\n",
            "Loss: 181.68\n",
            "Epoch 22\n",
            "Loss: 177.67\n",
            "Epoch 23\n",
            "Loss: 197.93\n",
            "Epoch 24\n",
            "Loss: 188.95\n",
            "Epoch 25\n",
            "Loss: 176.62\n",
            "Epoch 26\n",
            "Loss: 171.08\n",
            "Epoch 27\n",
            "Loss: 163.66\n",
            "Epoch 28\n",
            "Loss: 173.06\n",
            "Epoch 29\n",
            "Loss: 168.84\n",
            "Epoch 30\n",
            "Loss: 168.66\n"
          ],
          "name": "stdout"
        }
      ]
    },
    {
      "cell_type": "markdown",
      "metadata": {
        "id": "QPGxr7vZRa9c",
        "colab_type": "text"
      },
      "source": [
        "## Evaluation"
      ]
    },
    {
      "cell_type": "markdown",
      "metadata": {
        "id": "_7sJKskkQqKV",
        "colab_type": "text"
      },
      "source": [
        "Plot the Autoencoder's loss"
      ]
    },
    {
      "cell_type": "code",
      "metadata": {
        "id": "a2lbgSVyFcG2",
        "colab_type": "code",
        "colab": {
          "base_uri": "https://localhost:8080/",
          "height": 299
        },
        "outputId": "b5c048d7-a705-427d-aa81-11f8101354e3"
      },
      "source": [
        "plt.plot(model.losses, label='Loss')\n",
        "plt.title('Encoder loss')\n",
        "plt.legend()"
      ],
      "execution_count": 11,
      "outputs": [
        {
          "output_type": "execute_result",
          "data": {
            "text/plain": [
              "<matplotlib.legend.Legend at 0x7f7947935be0>"
            ]
          },
          "metadata": {
            "tags": []
          },
          "execution_count": 11
        },
        {
          "output_type": "display_data",
          "data": {
            "image/png": "[encoded data removed]",
            "text/plain": [
              "<Figure size 432x288 with 1 Axes>"
            ]
          },
          "metadata": {
            "tags": []
          }
        }
      ]
    },
    {
      "cell_type": "markdown",
      "metadata": {
        "id": "nzAQR9RRQuIP",
        "colab_type": "text"
      },
      "source": [
        "Visualize original and autoencoder generated image"
      ]
    },
    {
      "cell_type": "code",
      "metadata": {
        "id": "lpKnsw004TAE",
        "colab_type": "code",
        "outputId": "07af1b8c-507f-4847-ca31-a40d03578426",
        "colab": {
          "base_uri": "https://localhost:8080/",
          "height": 235
        }
      },
      "source": [
        "# choose random input from training data\n",
        "i = np.random.choice(len(X_train))\n",
        "x = X_train[i]\n",
        "\n",
        "# generate the output image\n",
        "img = model.predict([x]).reshape(28, 28)\n",
        "\n",
        "# plot the original image\n",
        "plt.subplot(1,2,1)\n",
        "plt.imshow(x.reshape(28, 28), cmap='gray')\n",
        "plt.title(\"Original\")\n",
        "\n",
        "# plot the generated image\n",
        "plt.subplot(1,2,2)\n",
        "plt.imshow(img, cmap='gray')\n",
        "plt.title(\"Generated\")"
      ],
      "execution_count": 12,
      "outputs": [
        {
          "output_type": "execute_result",
          "data": {
            "text/plain": [
              "Text(0.5, 1.0, 'Generated')"
            ]
          },
          "metadata": {
            "tags": []
          },
          "execution_count": 12
        },
        {
          "output_type": "display_data",
          "data": {
            "image/png": "[encoded data removed]",
            "text/plain": [
              "<Figure size 432x288 with 2 Axes>"
            ]
          },
          "metadata": {
            "tags": []
          }
        }
      ]
    },
    {
      "cell_type": "markdown",
      "metadata": {
        "id": "IVsEksovSryv",
        "colab_type": "text"
      },
      "source": [
        "## Save the model"
      ]
    },
    {
      "cell_type": "code",
      "metadata": {
        "id": "xCiedn6WStSR",
        "colab_type": "code",
        "colab": {
          "base_uri": "https://localhost:8080/",
          "height": 35
        },
        "outputId": "3ed47521-9c86-4a42-a3da-b5087e5faa6b"
      },
      "source": [
        "model.save_weights('/content/drive/My Drive/Colab Notebooks/models/autoencoder/')"
      ],
      "execution_count": 13,
      "outputs": [
        {
          "output_type": "stream",
          "text": [
            "Saved successfully\n"
          ],
          "name": "stdout"
        }
      ]
    }
  ]
}